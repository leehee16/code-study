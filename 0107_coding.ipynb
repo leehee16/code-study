{
 "cells": [
  {
   "cell_type": "code",
   "execution_count": 1,
   "metadata": {},
   "outputs": [
    {
     "name": "stdout",
     "output_type": "stream",
     "text": [
      "4\n"
     ]
    }
   ],
   "source": [
    "#1번\n",
    "a = {5,3,6,2,4} ##이 형태면 set라 순서가 없음.\n",
    "b = 4\n",
    "\n",
    "def solution(damages, shield):\n",
    "    take_damages = 0\n",
    "    for i in damages :\n",
    " #       if i == 2 :\n",
    " #           take_damages += 0\n",
    "        if i != 2 :\n",
    "            take_damages += max(0,i - shield)\n",
    "    \n",
    "    return take_damages+1\n",
    "\n",
    "print(solution(a, b))\n",
    "\n",
    "#회고\n",
    "##1.집합은 처음부터 하나씩 순회한다.\n",
    "##2. max함수는 두값중 큰 값을 반환한다."
   ]
  },
  {
   "cell_type": "code",
   "execution_count": 2,
   "metadata": {},
   "outputs": [
    {
     "name": "stdout",
     "output_type": "stream",
     "text": [
      "[1, 4, 2, 5, 4]\n"
     ]
    }
   ],
   "source": [
    "#2번 !! 복습요망\n",
    "#일단 단어 길이로 리스트를 만들자\n",
    "a = \"i want to study more\"\n",
    "\n",
    "def stow(s) :\n",
    "    words = []\n",
    "    for word in s.split() :\n",
    "        words.append(len(word))\n",
    "    return words\n",
    "\n",
    "\n",
    "def solution(sentence, rows, cols):\n",
    "    # 문장을 단어로 쪼갬\n",
    "    words = sentence.split()\n",
    "    # 전광판에 문장이 몇 번 반복돼서 들어갔는지 셈\n",
    "    total_repeats = 0\n",
    "    # 현재 사용 중인 전광판의 줄(0부터 시작)\n",
    "    current_line = 0\n",
    "    # 현재 줄에서 사용 중인 열(칸)\n",
    "    current_col = 0\n",
    "\n",
    "    # 전광판의 줄 개수(rows)만큼 배치해요\n",
    "    while current_line < rows:\n",
    "        # 문장을 단어 단위로 \n",
    "        for word in words:\n",
    "            word_length = len(word)\n",
    "\n",
    "            # 만약 단어 하나가 전광판 한 줄(cols)보다 길면 배치 자체가 불가능하므로\n",
    "            # 여기서는 배치를 포기하고 지금까지의 반복 횟수만 반환\n",
    "            if word_length > cols:\n",
    "                return total_repeats\n",
    "\n",
    "            # 현재 줄에 단어와 공백(필요하다면)까지 들어갈지 확인\n",
    "            # 첫 단어가 아닌 경우에는 앞에 공백 1칸이 필요하므로 그만큼 추가 계산\n",
    "            required_length = word_length if current_col == 0 else word_length + 1\n",
    "\n",
    "            # 현재 줄에 이 단어가 들어갈 공간이 없으면 줄바꿈\n",
    "            if current_col + required_length > cols:\n",
    "                current_line += 1\n",
    "                current_col = 0\n",
    "                # 전광판 줄을 넘어가면 반복 종료\n",
    "                if current_line >= rows:\n",
    "                    return total_repeats\n",
    "\n",
    "            # 줄이 비어있지 않으면 공백 1칸 사용\n",
    "            if current_col != 0:\n",
    "                current_col += 1\n",
    "\n",
    "            # 단어 길이만큼 열 사용\n",
    "            current_col += word_length\n",
    "\n",
    "        # 문장을 모두 배치했으므로 문장 반복 횟수를 증가\n",
    "        total_repeats += 1\n",
    "\n",
    "        # 문장 끝낸 후에 한 칸 띄우고 싶다면 아래 코드 사용 가능\n",
    "        # if current_col < cols:\n",
    "        #     current_col += 1\n",
    "\n",
    "    return total_repeats\n"
   ]
  },
  {
   "cell_type": "code",
   "execution_count": null,
   "metadata": {},
   "outputs": [],
   "source": [
    "def solution(L, U, D):\n",
    "    current_height = 0\n",
    "    jumps = 0\n",
    "    \n",
    "    while current_height < L :\n",
    "        jumps += 1\n",
    "        current_height += U\n",
    "        \n",
    "        if current_height >= L:\n",
    "            break\n",
    "        \n",
    "        current_height -= D\n",
    "    \n",
    "    return jumps"
   ]
  }
 ],
 "metadata": {
  "kernelspec": {
   "display_name": "analytics",
   "language": "python",
   "name": "python3"
  },
  "language_info": {
   "codemirror_mode": {
    "name": "ipython",
    "version": 3
   },
   "file_extension": ".py",
   "mimetype": "text/x-python",
   "name": "python",
   "nbconvert_exporter": "python",
   "pygments_lexer": "ipython3",
   "version": "3.11.11"
  }
 },
 "nbformat": 4,
 "nbformat_minor": 2
}
